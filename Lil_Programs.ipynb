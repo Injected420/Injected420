{
  "nbformat": 4,
  "nbformat_minor": 0,
  "metadata": {
    "language_info": {
      "name": "python",
      "version": "3.9.6",
      "mimetype": "text/x-python",
      "codemirror_mode": {
        "name": "ipython",
        "version": 3
      },
      "pygments_lexer": "ipython3",
      "nbconvert_exporter": "python",
      "file_extension": ".py"
    },
    "kernelspec": {
      "name": "python3",
      "display_name": "Python 3.9.6 64-bit"
    },
    "interpreter": {
      "hash": "63fd5069d213b44bf678585dea6b12cceca9941eaf7f819626cde1f2670de90d"
    },
    "colab": {
      "name": "Lil-Programs.ipynb",
      "provenance": [],
      "collapsed_sections": [],
      "include_colab_link": true
    }
  },
  "cells": [
    {
      "cell_type": "markdown",
      "metadata": {
        "id": "view-in-github",
        "colab_type": "text"
      },
      "source": [
        "<a href=\"https://colab.research.google.com/github/Injected420/Python_Projects/blob/base_branch/Lil_Programs.ipynb\" target=\"_parent\"><img src=\"https://colab.research.google.com/assets/colab-badge.svg\" alt=\"Open In Colab\"/></a>"
      ]
    },
    {
      "cell_type": "markdown",
      "metadata": {
        "id": "PpdR0o_ZMCZ5"
      },
      "source": [
        "##ZAP API\n",
        "\n",
        "* Key: jspqoorpr8nft3i6ech0bl3pt1\n",
        "* Proxy: 'http://localhost:8081\n",
        "\n"
      ]
    },
    {
      "cell_type": "code",
      "metadata": {
        "id": "KFAVrFHuMBvr"
      },
      "source": [
        "import time\n",
        "import requests\n",
        "\n",
        "headers = {\n",
        "    'Accept': 'application/json',\n",
        "    'X-ZAP-API-Key': 'jspqoorpr8nft3i6ech0bl3pt1'\n",
        "}\n",
        "\n",
        "r = requests.get('http://zap/JSON/spider/action/' , params={\n",
        "    'Integer': '0'\n",
        "}, headers = headers)\n",
        "print(r.json)"
      ],
      "execution_count": null,
      "outputs": []
    },
    {
      "cell_type": "markdown",
      "metadata": {
        "id": "dp0fgYax098T"
      },
      "source": [
        "## Calculate Area and Perimeter"
      ]
    },
    {
      "cell_type": "code",
      "metadata": {
        "id": "ZNfve8Gm098U",
        "outputId": "752f78df-89ad-4f93-9feb-474f8714d8b0"
      },
      "source": [
        "#Cube\n",
        "cube_face = float(input(\"Enter the size of one face of the cube: \"))\n",
        "surface_area = cube_face * cube_face * 6\n",
        "print(\"The surface area of the cube is:\", surface_area)"
      ],
      "execution_count": null,
      "outputs": [
        {
          "output_type": "stream",
          "name": "stdout",
          "text": [
            "The surface area of the cube is: 3456.0\n"
          ]
        }
      ]
    },
    {
      "cell_type": "markdown",
      "metadata": {
        "id": "aWjKxkVu098W"
      },
      "source": [
        "## Reverse A String\n",
        "\n",
        "Type in a **`String`** and it will print in *reverse*"
      ]
    },
    {
      "cell_type": "code",
      "metadata": {
        "id": "UL0wETnA098X",
        "colab": {
          "base_uri": "https://localhost:8080/"
        },
        "outputId": "a955d7fe-595b-4617-e979-b3c0b71ae091"
      },
      "source": [
        "theString = str(input(\"Enter a String:\\n\"))\n",
        "print(theString[::-1])"
      ],
      "execution_count": null,
      "outputs": [
        {
          "output_type": "stream",
          "name": "stdout",
          "text": [
            "Enter a String:\n",
            "Fucking Shit \n",
            " tihS gnikcuF\n"
          ]
        }
      ]
    },
    {
      "cell_type": "markdown",
      "metadata": {
        "id": "SfFji4A9098Y"
      },
      "source": [
        "## Calculate the Area and Perimeter of a Rectangle\n",
        "\n",
        "Enter the **`Height`** and **`Width`** "
      ]
    },
    {
      "cell_type": "code",
      "metadata": {
        "id": "lD_XSgno098Y",
        "colab": {
          "base_uri": "https://localhost:8080/"
        },
        "outputId": "02118f62-ba80-48a2-85da-90a44075e86c"
      },
      "source": [
        "#Greeting\n",
        "print(\"Hi, I can calculate the Area and Perimeter of a Rectangle!\")\n",
        "\n",
        "\n",
        "#Start\n",
        "print(\"Ok, let's do this!\")\n",
        "height = int(input(\"What is the height: \"))\n",
        "width = int(input(\"What is the width: \"))\n",
        "area = height * width\n",
        "perim = 2*(height + width)\n",
        "print(\"The area of your rectangle is:\", area)\n",
        "print(\"The perimeter is:\", perim)"
      ],
      "execution_count": null,
      "outputs": [
        {
          "output_type": "stream",
          "name": "stdout",
          "text": [
            "Hi, I can calculate the Area and Perimeter of a Rectangle!\n",
            "Ok, let's do this!\n",
            "What is the height: 20\n",
            "What is the width: 40\n",
            "The area of your rectangle is: 800\n",
            "The perimeter is: 120\n"
          ]
        }
      ]
    },
    {
      "cell_type": "markdown",
      "metadata": {
        "id": "WtLZ5bj2098Y"
      },
      "source": [
        "## Can you vote and are you registered?\n",
        "\n",
        "Remember you need to be **18** years or older and **registered**!"
      ]
    },
    {
      "cell_type": "code",
      "metadata": {
        "id": "PwLYsBnJ098Z",
        "outputId": "a77f4c79-dbef-409a-bdc1-9ff7b3cf925b"
      },
      "source": [
        "def canvote():\n",
        "    user_age = int(input(\"Please enter your age: \"))\n",
        "    if user_age < 18:\n",
        "        print(\"Sorry you are too young to vote. You need to be 18.\")\n",
        "    elif user_age >= 18:\n",
        "        registered = str(input(\"Have you registered to vote yet?\"))\n",
        "        if registered.lower() == \"yes\" or registered.lower() == \"yea\" or registered.lower() == \"yup\":\n",
        "          print(\"You are able to vote!!\")\n",
        "      \n",
        "        elif registered.lower() == \"no\" or registered.lower() == \"na\" or registered.lower() == \"nope\":\n",
        "          print(\"Sorry you need to register before you can vote.\")\n",
        "        else:\n",
        "          print(\"Sorry, incorrect input\")\n",
        "\n",
        "canvote()"
      ],
      "execution_count": null,
      "outputs": [
        {
          "output_type": "stream",
          "name": "stdout",
          "text": [
            "Sorry you are too young to vote. You need to be 18.\n"
          ]
        }
      ]
    },
    {
      "cell_type": "markdown",
      "metadata": {
        "id": "EvZTK4YJ098a"
      },
      "source": [
        "# Lab 4\n",
        "### Using For Loops, While Loops and Functions\n",
        "\n",
        "Write a python program that asks the user to enter the rainfall for each of 12 months using a loop and store them in a list. Then the program should calculate and display the total rainfall for the year, the average, the highest, and the lowest rainfall. \n",
        "\n",
        "#### program to set a list of 5 scores, then read those 5 grades from the user and assign them to the list.\n",
        "\n",
        "`scores=[0.0,0.0,0.0,0.0,0.0]`\n",
        "\n",
        "`for i in range(5):`       \n",
        "\n",
        "     `scores[i] = float(input('Enter grade '+str(i+1) + \": \"))`\n",
        "\n",
        "`print(scores)`"
      ]
    },
    {
      "cell_type": "code",
      "metadata": {
        "id": "v7MkpYS7098a"
      },
      "source": [
        "import datetime\n",
        "import time\n",
        "\n",
        "\n",
        "def rainfall():\n",
        "  months = [\"January\", \"Feburary\", \"March\", \"April\", 'May', \"June\", \"July\", 'August', \"September\", \"October\", \"November\", \"December\"]\n",
        "  for i in range(len(months)):\n",
        "    a = 0\n",
        "    rain_month_list = []\n",
        "    rfall = input(\"Enter rainfall: \")\n",
        "    if rfall:\n",
        "      rfall += rain_month_list[i]\n",
        "rainfall()"
      ],
      "execution_count": null,
      "outputs": []
    },
    {
      "cell_type": "markdown",
      "source": [
        "# Conversions:"
      ],
      "metadata": {
        "id": "5So_L9VlXRrW"
      }
    },
    {
      "cell_type": "markdown",
      "metadata": {
        "id": "k8ekfY4a6bQB"
      },
      "source": [
        "###Converting Kilometers into Miles\n"
      ]
    },
    {
      "cell_type": "code",
      "metadata": {
        "id": "ka1nADB56Z3L"
      },
      "source": [
        "import IPython as IPy\n",
        "import ipywidgets as widgets\n",
        "\n",
        "def convert(miles):\n",
        "  km = miles / 0.62137\n",
        "  \n",
        "  print(\"Kilometers: \", format(km, '.2f'))\n",
        "\n",
        "def show():\n",
        "  \n",
        "show()"
      ],
      "execution_count": null,
      "outputs": []
    },
    {
      "cell_type": "markdown",
      "source": [
        "### Roman Numerials"
      ],
      "metadata": {
        "id": "S6vUuFeaXZkB"
      }
    },
    {
      "cell_type": "code",
      "source": [
        "def roman_to_int(roman: str) -> int:\n",
        "    \"\"\"\n",
        "    LeetCode No. 13 Roman to Integer\n",
        "    Given a roman numeral, convert it to an integer.\n",
        "    Input is guaranteed to be within the range from 1 to 3999.\n",
        "    https://en.wikipedia.org/wiki/Roman_numerals\n",
        "    >>> tests = {\"III\": 3, \"CLIV\": 154, \"MIX\": 1009, \"MMD\": 2500, \"MMMCMXCIX\": 3999}\n",
        "    >>> all(roman_to_int(key) == value for key, value in tests.items())\n",
        "    True\n",
        "    \"\"\"\n",
        "    vals = {\"I\": 1, \"V\": 5, \"X\": 10, \"L\": 50, \"C\": 100, \"D\": 500, \"M\": 1000}\n",
        "    total = 0\n",
        "    place = 0\n",
        "    while place < len(roman):\n",
        "        if (place + 1 < len(roman)) and (vals[roman[place]] < vals[roman[place + 1]]):\n",
        "            total += vals[roman[place + 1]] - vals[roman[place]]\n",
        "            place += 2\n",
        "        else:\n",
        "            total += vals[roman[place]]\n",
        "            place += 1\n",
        "    return total\n",
        "\n",
        "\n",
        "def int_to_roman(number: int) -> str:\n",
        "    \"\"\"\n",
        "    Given a integer, convert it to an roman numeral.\n",
        "    https://en.wikipedia.org/wiki/Roman_numerals\n",
        "    >>> tests = {\"III\": 3, \"CLIV\": 154, \"MIX\": 1009, \"MMD\": 2500, \"MMMCMXCIX\": 3999}\n",
        "    >>> all(int_to_roman(value) == key for key, value in tests.items())\n",
        "    True\n",
        "    \"\"\"\n",
        "    ROMAN = [\n",
        "        (1000, \"M\"),\n",
        "        (900, \"CM\"),\n",
        "        (500, \"D\"),\n",
        "        (400, \"CD\"),\n",
        "        (100, \"C\"),\n",
        "        (90, \"XC\"),\n",
        "        (50, \"L\"),\n",
        "        (40, \"XL\"),\n",
        "        (10, \"X\"),\n",
        "        (9, \"IX\"),\n",
        "        (5, \"V\"),\n",
        "        (4, \"IV\"),\n",
        "        (1, \"I\"),\n",
        "    ]\n",
        "    result = []\n",
        "    for (arabic, roman) in ROMAN:\n",
        "        (factor, number) = divmod(number, arabic)\n",
        "        result.append(roman * factor)\n",
        "        if number == 0:\n",
        "            break\n",
        "    return \"\".join(result)\n",
        "\n",
        "\n",
        "if __name__ == \"__main__\":\n",
        "    import doctest\n",
        "\n",
        "    doctest.testmod()\n"
      ],
      "metadata": {
        "id": "CSKexhLzX0ZD"
      },
      "execution_count": null,
      "outputs": []
    },
    {
      "cell_type": "markdown",
      "source": [
        "## Encrypting with SHA256"
      ],
      "metadata": {
        "id": "eE93qZqJbJQ1"
      }
    },
    {
      "cell_type": "code",
      "source": [
        "# Author: M. Yathurshan\n",
        "# Black Formatter: True\n",
        "\n",
        "\"\"\"\n",
        "Implementation of SHA256 Hash function in a Python class and provides utilities\n",
        "to find hash of string or hash of text from a file.\n",
        "\n",
        "Usage: python sha256.py --string \"Hello World!!\"\n",
        "       python sha256.py --file \"hello_world.txt\"\n",
        "       When run without any arguments,\n",
        "       it prints the hash of the string \"Hello World!! Welcome to Cryptography\"\n",
        "\n",
        "References:\n",
        "https://qvault.io/cryptography/how-sha-2-works-step-by-step-sha-256/\n",
        "https://en.wikipedia.org/wiki/SHA-2\n",
        "\"\"\"\n",
        "\n",
        "import argparse\n",
        "import struct\n",
        "import unittest\n",
        "\n",
        "\n",
        "class SHA256:\n",
        "    \"\"\"\n",
        "    Class to contain the entire pipeline for SHA1 Hashing Algorithm\n",
        "\n",
        "    >>> SHA256(b'Python').hash\n",
        "    '18885f27b5af9012df19e496460f9294d5ab76128824c6f993787004f6d9a7db'\n",
        "\n",
        "    >>> SHA256(b'hello world').hash\n",
        "    'b94d27b9934d3e08a52e52d7da7dabfac484efe37a5380ee9088f7ace2efcde9'\n",
        "    \"\"\"\n",
        "\n",
        "    def __init__(self, data: bytes) -> None:\n",
        "        self.data = data\n",
        "\n",
        "        # Initialize hash values\n",
        "        self.hashes = [\n",
        "            0x6A09E667,\n",
        "            0xBB67AE85,\n",
        "            0x3C6EF372,\n",
        "            0xA54FF53A,\n",
        "            0x510E527F,\n",
        "            0x9B05688C,\n",
        "            0x1F83D9AB,\n",
        "            0x5BE0CD19,\n",
        "        ]\n",
        "\n",
        "        # Initialize round constants\n",
        "        self.round_constants = [\n",
        "            0x428A2F98,\n",
        "            0x71374491,\n",
        "            0xB5C0FBCF,\n",
        "            0xE9B5DBA5,\n",
        "            0x3956C25B,\n",
        "            0x59F111F1,\n",
        "            0x923F82A4,\n",
        "            0xAB1C5ED5,\n",
        "            0xD807AA98,\n",
        "            0x12835B01,\n",
        "            0x243185BE,\n",
        "            0x550C7DC3,\n",
        "            0x72BE5D74,\n",
        "            0x80DEB1FE,\n",
        "            0x9BDC06A7,\n",
        "            0xC19BF174,\n",
        "            0xE49B69C1,\n",
        "            0xEFBE4786,\n",
        "            0x0FC19DC6,\n",
        "            0x240CA1CC,\n",
        "            0x2DE92C6F,\n",
        "            0x4A7484AA,\n",
        "            0x5CB0A9DC,\n",
        "            0x76F988DA,\n",
        "            0x983E5152,\n",
        "            0xA831C66D,\n",
        "            0xB00327C8,\n",
        "            0xBF597FC7,\n",
        "            0xC6E00BF3,\n",
        "            0xD5A79147,\n",
        "            0x06CA6351,\n",
        "            0x14292967,\n",
        "            0x27B70A85,\n",
        "            0x2E1B2138,\n",
        "            0x4D2C6DFC,\n",
        "            0x53380D13,\n",
        "            0x650A7354,\n",
        "            0x766A0ABB,\n",
        "            0x81C2C92E,\n",
        "            0x92722C85,\n",
        "            0xA2BFE8A1,\n",
        "            0xA81A664B,\n",
        "            0xC24B8B70,\n",
        "            0xC76C51A3,\n",
        "            0xD192E819,\n",
        "            0xD6990624,\n",
        "            0xF40E3585,\n",
        "            0x106AA070,\n",
        "            0x19A4C116,\n",
        "            0x1E376C08,\n",
        "            0x2748774C,\n",
        "            0x34B0BCB5,\n",
        "            0x391C0CB3,\n",
        "            0x4ED8AA4A,\n",
        "            0x5B9CCA4F,\n",
        "            0x682E6FF3,\n",
        "            0x748F82EE,\n",
        "            0x78A5636F,\n",
        "            0x84C87814,\n",
        "            0x8CC70208,\n",
        "            0x90BEFFFA,\n",
        "            0xA4506CEB,\n",
        "            0xBEF9A3F7,\n",
        "            0xC67178F2,\n",
        "        ]\n",
        "\n",
        "        self.preprocessed_data = self.preprocessing(self.data)\n",
        "        self.final_hash()\n",
        "\n",
        "    @staticmethod\n",
        "    def preprocessing(data: bytes) -> bytes:\n",
        "        padding = b\"\\x80\" + (b\"\\x00\" * (63 - (len(data) + 8) % 64))\n",
        "        big_endian_integer = struct.pack(\">Q\", (len(data) * 8))\n",
        "        return data + padding + big_endian_integer\n",
        "\n",
        "    def final_hash(self) -> None:\n",
        "        # Convert into blocks of 64 bytes\n",
        "        self.blocks = [\n",
        "            self.preprocessed_data[x : x + 64]\n",
        "            for x in range(0, len(self.preprocessed_data), 64)\n",
        "        ]\n",
        "\n",
        "        for block in self.blocks:\n",
        "            # Convert the given block into a list of 4 byte integers\n",
        "            words = list(struct.unpack(\">16L\", block))\n",
        "            # add 48 0-ed integers\n",
        "            words += [0] * 48\n",
        "\n",
        "            a, b, c, d, e, f, g, h = self.hashes\n",
        "\n",
        "            for index in range(0, 64):\n",
        "                if index > 15:\n",
        "                    # modify the zero-ed indexes at the end of the array\n",
        "                    s0 = (\n",
        "                        self.ror(words[index - 15], 7)\n",
        "                        ^ self.ror(words[index - 15], 18)\n",
        "                        ^ (words[index - 15] >> 3)\n",
        "                    )\n",
        "                    s1 = (\n",
        "                        self.ror(words[index - 2], 17)\n",
        "                        ^ self.ror(words[index - 2], 19)\n",
        "                        ^ (words[index - 2] >> 10)\n",
        "                    )\n",
        "\n",
        "                    words[index] = (\n",
        "                        words[index - 16] + s0 + words[index - 7] + s1\n",
        "                    ) % 0x100000000\n",
        "\n",
        "                # Compression\n",
        "                S1 = self.ror(e, 6) ^ self.ror(e, 11) ^ self.ror(e, 25)\n",
        "                ch = (e & f) ^ ((~e & (0xFFFFFFFF)) & g)\n",
        "                temp1 = (\n",
        "                    h + S1 + ch + self.round_constants[index] + words[index]\n",
        "                ) % 0x100000000\n",
        "                S0 = self.ror(a, 2) ^ self.ror(a, 13) ^ self.ror(a, 22)\n",
        "                maj = (a & b) ^ (a & c) ^ (b & c)\n",
        "                temp2 = (S0 + maj) % 0x100000000\n",
        "\n",
        "                h, g, f, e, d, c, b, a = (\n",
        "                    g,\n",
        "                    f,\n",
        "                    e,\n",
        "                    ((d + temp1) % 0x100000000),\n",
        "                    c,\n",
        "                    b,\n",
        "                    a,\n",
        "                    ((temp1 + temp2) % 0x100000000),\n",
        "                )\n",
        "\n",
        "            mutated_hash_values = [a, b, c, d, e, f, g, h]\n",
        "\n",
        "            # Modify final values\n",
        "            self.hashes = [\n",
        "                ((element + mutated_hash_values[index]) % 0x100000000)\n",
        "                for index, element in enumerate(self.hashes)\n",
        "            ]\n",
        "\n",
        "        self.hash = \"\".join([hex(value)[2:].zfill(8) for value in self.hashes])\n",
        "\n",
        "    def ror(self, value: int, rotations: int) -> int:\n",
        "        \"\"\"\n",
        "        Right rotate a given unsigned number by a certain amount of rotations\n",
        "        \"\"\"\n",
        "        return 0xFFFFFFFF & (value << (32 - rotations)) | (value >> rotations)\n",
        "\n",
        "\n",
        "class SHA256HashTest(unittest.TestCase):\n",
        "    \"\"\"\n",
        "    Test class for the SHA256 class. Inherits the TestCase class from unittest\n",
        "    \"\"\"\n",
        "\n",
        "    def test_match_hashes(self) -> None:\n",
        "        import hashlib\n",
        "\n",
        "        msg = bytes(\"Test String\", \"utf-8\")\n",
        "        self.assertEqual(SHA256(msg).hash, hashlib.sha256(msg).hexdigest())\n",
        "\n",
        "\n",
        "def main() -> None:\n",
        "    \"\"\"\n",
        "    Provides option 'string' or 'file' to take input\n",
        "    and prints the calculated SHA-256 hash\n",
        "    \"\"\"\n",
        "\n",
        "    # unittest.main()\n",
        "\n",
        "    import doctest\n",
        "\n",
        "    doctest.testmod()\n",
        "\n",
        "    parser = argparse.ArgumentParser()\n",
        "    parser.add_argument(\n",
        "        \"-s\",\n",
        "        \"--string\",\n",
        "        dest=\"input_string\",\n",
        "        default=\"Hello World!! Welcome to Cryptography\",\n",
        "        help=\"Hash the string\",\n",
        "    )\n",
        "    parser.add_argument(\n",
        "        \"-f\", \"--file\", dest=\"input_file\", help=\"Hash contents of a file\"\n",
        "    )\n",
        "\n",
        "    args = parser.parse_args()\n",
        "\n",
        "    input_string = args.input_string\n",
        "\n",
        "    # hash input should be a bytestring\n",
        "    if args.input_file:\n",
        "        with open(args.input_file, \"rb\") as f:\n",
        "            hash_input = f.read()\n",
        "    else:\n",
        "        hash_input = bytes(input_string, \"utf-8\")\n",
        "\n",
        "    print(SHA256(hash_input).hash)\n",
        "\n",
        "\n",
        "if __name__ == \"__main__\":\n",
        "    main()\n"
      ],
      "metadata": {
        "id": "Rpe9fwqDYDab",
        "colab": {
          "base_uri": "https://localhost:8080/"
        },
        "outputId": "50662576-ba86-4cbb-ef31-10bdc50b4dec"
      },
      "execution_count": null,
      "outputs": [
        {
          "output_type": "stream",
          "name": "stdout",
          "text": [
            "1af2d3978154e99df4b998f0b1ae83e89eb4744da65ba56c3ccc13039c6357c2\n"
          ]
        }
      ]
    },
    {
      "cell_type": "markdown",
      "metadata": {
        "id": "UpNvkN9Q_ZvS"
      },
      "source": [
        "\n",
        "### Javascript & Python\n",
        "---\n",
        "\n",
        "\n"
      ]
    },
    {
      "cell_type": "code",
      "metadata": {
        "id": "-HTQb2xeJaIY",
        "colab": {
          "base_uri": "https://localhost:8080/",
          "height": 38
        },
        "outputId": "8dd9f306-e7ab-4309-d06e-51c77f5d7e7f"
      },
      "source": [
        "import IPython\n",
        "import uuid\n",
        "from google.colab import output\n",
        "\n",
        "class InvokeButton(object):\n",
        "  def __init__(self, title, callback):\n",
        "    self._title = title\n",
        "    self._callback = callback\n",
        "\n",
        "  def _repr_html_(self):\n",
        "    callback_id = 'button-' + str(uuid.uuid4())\n",
        "    output.register_callback(callback_id, self._callback)\n",
        "\n",
        "    template = \"\"\"<button id=\"{callback_id}\">{title}</button>\n",
        "        <script>\n",
        "          document.querySelector(\"#{callback_id}\").onclick = (e) => {{\n",
        "            google.colab.kernel.invokeFunction('{callback_id}', [], {{}})\n",
        "            e.preventDefault();\n",
        "          }};\n",
        "        </script>\"\"\"\n",
        "    html = template.format(title=self._title, callback_id=callback_id)\n",
        "    return html\n",
        "\n",
        "def do_something():\n",
        "  print('here')\n",
        "\n",
        "InvokeButton('click me', do_something)"
      ],
      "execution_count": null,
      "outputs": [
        {
          "output_type": "execute_result",
          "data": {
            "text/plain": [
              "<__main__.InvokeButton at 0x7f46f9256790>"
            ],
            "text/html": [
              "<button id=\"button-0e3c8982-5151-4046-a99f-513f4fbb971f\">click me</button>\n",
              "        <script>\n",
              "          document.querySelector(\"#button-0e3c8982-5151-4046-a99f-513f4fbb971f\").onclick = (e) => {\n",
              "            google.colab.kernel.invokeFunction('button-0e3c8982-5151-4046-a99f-513f4fbb971f', [], {})\n",
              "            e.preventDefault();\n",
              "          };\n",
              "        </script>"
            ]
          },
          "metadata": {},
          "execution_count": 3
        }
      ]
    },
    {
      "cell_type": "markdown",
      "metadata": {
        "id": "gQPrPconAQFg"
      },
      "source": [
        "####Network Scanner \n",
        "\n",
        "**Fixed**!\n",
        "\n",
        "This scanner takes IP addresses as well as Domain Names."
      ]
    },
    {
      "cell_type": "code",
      "metadata": {
        "id": "tu5XlTujAhog"
      },
      "source": [
        "import socket\n",
        "import threading\n",
        "import IPy as ipy\n",
        "import requests\n",
        "\n",
        "\n",
        "def checkIP(ip):\n",
        "    try:\n",
        "        ipy.IP(ip)\n",
        "        return(ip)\n",
        "    except ValueError:\n",
        "        return socket.gethostbyname(ip)\n",
        "\n",
        "\n",
        "def port_scan(ipaddress, port):\n",
        "    try:\n",
        "        sock = socket.socket()\n",
        "        sock.settimeout(0.10)\n",
        "        sock.connect((ipaddress, port))\n",
        "        print('[+] Port ' + str(port) + ' is Open.')\n",
        "\n",
        "    except:\n",
        "        print('[-] Port ' + str(port) + ' is Closed')\n",
        "\n",
        "if __name__ == \"__main__\":\n",
        "\n",
        "    IPADDRESS = input(\"$ Enter Target to Scan: \")\n",
        "    port = int(input(\"$ Enter the last port number you want to scan: \"))\n",
        "    port = range(port)\n",
        "\n",
        "    converted_ip = checkIP(IPADDRESS)\n",
        "\n",
        "\n",
        "    def do_scan():\n",
        "        for i in port:\n",
        "            port_scan(converted_ip, port[i])\n",
        "\n",
        "\n",
        "    do_scan()\n"
      ],
      "execution_count": null,
      "outputs": []
    },
    {
      "cell_type": "markdown",
      "metadata": {
        "id": "y4nCw1ENuYYc"
      },
      "source": [
        "\n",
        "\n",
        "---\n",
        "\n"
      ]
    },
    {
      "cell_type": "markdown",
      "metadata": {
        "id": "ITpeeDJ0uX0c"
      },
      "source": [
        ""
      ]
    },
    {
      "cell_type": "markdown",
      "metadata": {
        "id": "0qQwkYpmiX-t"
      },
      "source": [
        "### Micro CMS 2\n",
        "* Flag0 - \n",
        "* Flag1\n",
        "* Flag2"
      ]
    },
    {
      "cell_type": "code",
      "metadata": {
        "id": "PCLWsQtRiisS"
      },
      "source": [
        "#@title Hacker101\n",
        "import requests\n",
        "import base64\n",
        "page1 = 'http://34.94.3.143/fe8030c107/'\n",
        "graph_page = 'http://34.94.3.143/fe8030c107/graphql'\n",
        "b = base64.b64decode('VXNlcnM6MQ==')\n",
        "c = base64.b64decode('VXNlcnM6Mg==')\n",
        "print(b)\n",
        "print(c)"
      ],
      "execution_count": null,
      "outputs": []
    },
    {
      "cell_type": "markdown",
      "metadata": {
        "id": "_YOIkShbsVii"
      },
      "source": [
        "#### Computer Logic Functions\n",
        "\n",
        "\n",
        "* __Octal to Decimal__ (check function)\n",
        "* __Octal to Binary__\n",
        "\n",
        "Each octal digit can be seen as a 3-bit represantion\n",
        "\n",
        "4712 = `100` `111` `001` `0100`"
      ]
    },
    {
      "cell_type": "code",
      "metadata": {
        "id": "bd7TCdDXsgVW"
      },
      "source": [
        "def octal_to_decimal():\n",
        "   b0 = pow(8, -3,)\n",
        "   b1 = pow(8, -2)\n",
        "   b2 = pow(8, -1)\n",
        "   b3 = pow(8, 0)\n",
        "   b4 = pow(8, 1)\n",
        "   b5 = pow(8, 2)\n",
        "   b6 = pow(8, 3)\n",
        "   b7 = pow(8, 4)\n",
        "   b8 = pow(8, 5)\n",
        "   oct_dec = b0, b1, b2, b3, b4, b5, b6, b7, b8\n",
        "   print( \"8^-3=\", b0, \"8^-2=\", b1, \"8^-1=\", b2, \"8^0=\", b3, \"8^1=\", b4, \"8^2=\", b5, \"8^3=\", b6, \"8^4=\", b7, \"8^5=\", b8)\n",
        "octal_to_decimal()\n"
      ],
      "execution_count": null,
      "outputs": []
    },
    {
      "cell_type": "markdown",
      "metadata": {
        "id": "mhas8Zmp93Rr"
      },
      "source": [
        "#### Octal Addition\n",
        "\n",
        "Add the 2 numbers, if the **sum** is greater than 7, subtract 8 and carry and 1 to the next decimal place.\n"
      ]
    },
    {
      "cell_type": "code",
      "metadata": {
        "id": "NA8hB4RoAk-x"
      },
      "source": [
        "\n",
        "%autosave 120\n",
        "import math\n",
        "import random\n",
        "import time\n",
        "\n",
        "def octal_add():\n",
        "  print(\"Numbers must be between 0-7\")\n",
        "  time.sleep(1)\n",
        "  num0 = int(input(\"Enter the first Octal Number: \"))\n",
        "  num1 = int(input(\"Enter the second octal number: \"))\n",
        "  octal_sum = num0 + num1\n",
        "  if octal_sum > 7:\n",
        "    octal_sum -= 8\n",
        "    print(\"Sum: 1\" + str(octal_sum))\n",
        "  elif octal_sum <= 7:\n",
        "    octal_sum += 0\n",
        "    print(\"Sum:\", octal_sum)\n",
        "  else:\n",
        "    return ValueError((num0, num1), 'Must be a number.')\n",
        "\n",
        "octal_add()"
      ],
      "execution_count": null,
      "outputs": []
    },
    {
      "cell_type": "markdown",
      "metadata": {
        "id": "t-2KOKyDb-JY"
      },
      "source": [
        "#### Octal to Binary/Binary to Octal Conversions\n",
        "\n",
        "* The Octal to Binary Conversion can be reversed to get Octal from Binary\n",
        "\n",
        "Example: `4` = `100 (3-bit)` `1 = 001/ 432` = `100 011 010`\n",
        "\n",
        "### Hexadecimal:\n",
        "* Base-16\n",
        "* Requires 16 digits, 0-9 & the first 6 letters of the alphabet"
      ]
    },
    {
      "cell_type": "markdown",
      "metadata": {
        "id": "UGB8ocybFb9p"
      },
      "source": [
        "### Hacking Laws\n",
        "\n",
        "##### Nation to Nation\n",
        "\n",
        "![Exploit-DB](https://www.exploit-db.com/images/edb-banner-logo-white.png)\n",
        "\n",
        "\n",
        "[Exploit-DB](https://www.exploit-db.com/)\n",
        "\n",
        "[CentralOps.net](https://centralops.net/): \n",
        "\n",
        "### Information Gathering Programs:\n",
        "\n",
        "###__Spiderfoot__ - finds Meta tags, Emails, URLs, Phone numbers, Links, and other info.\n",
        "###__Ping__ - using ping on a domain will at least show you its IP address. The -f tag sends fragmented packets, -i defines the seconds between sending each pscket, -t defines the **TTL** or Time to Live, -l send (preload) number of packages while waiting Replies, -s is the number of bytes in the packet (32 is the standard).\n",
        "###**HTTrack** - used for Mirroring Websites. \n",
        "###**Cewl** - creates wordlists for ***fuzzing*** and forcing*** for a **specfic domain**. -d # (defines the depth to crawl the site), -m # (defines the minimum Word length to return.), -w 'filename' (saves the output to the filename, creates one if it doesn't exist.)\n",
        "###**NSLOOKUP** - simply type `nslookup` into the command line and and prompt `>` will appear. You can search for different types of NS records such as A Name, CName, and more to help you find the exact ip address you are looking for."
      ]
    },
    {
      "cell_type": "markdown",
      "metadata": {
        "id": "vHHBCtu6gPNz"
      },
      "source": [
        "## Working on HTML with Codecademy\n",
        "\n",
        "\n",
        "---\n",
        "\n",
        "\n",
        "[Codecademy](https://www.codecademy.com/)\n",
        "\n"
      ]
    },
    {
      "cell_type": "code",
      "metadata": {
        "id": "6e_icSBZN0gd"
      },
      "source": [
        "#@title Searching Google\n",
        "import requests\n",
        "\n",
        "google = 'https://www.google.com/search?q=' #@param\n",
        "\n",
        "def google_search():\n",
        "  google = 'https://www.google.com/search?q='\n",
        "  choice = int(input(\"Press 1 to search\\nPress 2 to quit: \"))\n",
        "  if choice == 2:\n",
        "    return\n",
        "  elif choice == 1:\n",
        "    user_input = input(\"Enter Google Search Term/s: \")\n",
        "    search = requests.get(google + str(user_input)).text\n",
        "    \n",
        "    print(search) \n",
        "    \n",
        "google_search()"
      ],
      "execution_count": null,
      "outputs": []
    },
    {
      "cell_type": "markdown",
      "source": [
        "### Horoscopes \n",
        "\n",
        "Needs fixed\n",
        "\n"
      ],
      "metadata": {
        "id": "MZRX75SdIplY"
      }
    },
    {
      "cell_type": "code",
      "source": [
        "\n",
        "\n",
        "import requests\n",
        "from bs4 import BeautifulSoup\n",
        "\n",
        "\n",
        "def horoscope(zodiac_sign: int, day: str) -> str:\n",
        "    url = (\n",
        "        \"https://www.horoscope.com/us/horoscopes/general/\"\n",
        "        f\"horoscope-general-daily-{day}.aspx?sign={zodiac_sign}\"\n",
        "    )\n",
        "    soup = BeautifulSoup(requests.get(url).content, \"html.parser\")\n",
        "\n",
        "    return soup.find(\"div\", class_=\"main-horoscope\").p.text\n",
        "\n",
        "\n",
        "if __name__ == \"__main__\":\n",
        "    print(\"[+]Daily Horoscope. \\n\")\n",
        "    print(\n",
        "        \"[+]Enter your Zodiac sign's number:\\n\",\n",
        "        \"1. Aries\\n\",\n",
        "        \"2. Taurus\\n\",\n",
        "        \"3. Gemini\\n\",\n",
        "        \"4. Cancer\\n\",\n",
        "        \"5. Leo\\n\",\n",
        "        \"6. Virgo\\n\",\n",
        "        \"7. Libra\\n\",\n",
        "        \"8. Scorpio\\n\",\n",
        "        \"9. Sagittarius\\n\",\n",
        "        \"10. Capricorn\\n\",\n",
        "        \"11. Aquarius\\n\",\n",
        "        \"12. Pisces\\n\",\n",
        "    )\n",
        "    zodiac_sign = int(input(\"[+]Choose your Sign's Number: \").strip())\n",
        "    print(\"[+]Choose Which day: 'Yesterday', 'Today', 'Tomrrow' \")\n",
        "    day_num = int(input(\"[+]Enter Number for the Day you want:  \"))\n",
        "    if day_num == 1:\n",
        "        day = \"Yesterday\"\n",
        "    elif day_num == 2:\n",
        "        day = \"Today\"\n",
        "    elif day_num == 3:\n",
        "        day = \"Tomorrow\"\n",
        "    else:\n",
        "        print(\"[-]Error, please choose either 1, 2, or 3\")\n",
        "    horoscope_text = horoscope(zodiac_sign, day)\n",
        "    print(horoscope_text)\n"
      ],
      "metadata": {
        "id": "6DoYDFy5veY3"
      },
      "execution_count": null,
      "outputs": []
    },
    {
      "cell_type": "code",
      "source": [
        "def convert_to_fahrenheit():\n",
        "    tempC = float(input(\"Enter the temperature in Celius to be converted Farenheit: \"))\n",
        "    temp_in_f = tempC * 1.8 + 32\n",
        "    print(\"[+]\", tempC,\"Celius is\", temp_in_f,\"in Fahrenheit.\")\n",
        "    return temp_in_f\n",
        "\n",
        "\n",
        "def convert_to_celius():\n",
        "    tempF = float(input(\"Enter the temperature in Farenheit to be converted to Celius: \"))\n",
        "    temp_in_c = (tempF -32) / 1.8\n",
        "    print(\"[+]\", tempF,\"Farenheit equals\", temp_in_c,\"celius.\")\n",
        "    return temp_in_c\n",
        "\n",
        "def celius_to_kelvin():\n",
        "    tempC = float(input(\"Enter the temperature in Celius to be converted to Kelvin: \"))\n",
        "    kelvin = tempC + 273.15\n",
        "    print(\"[+]\",tempC,\"celius equals\",kelvin,\"kelvin.\")\n",
        "    return kelvin\n",
        "\n",
        "def main():\n",
        "    a = 0\n",
        "    while a == 0:\n",
        "        print(\"Welcome user!\")\n",
        "        choice = input(\"Enter 'C' to convert Celius to Farenheit.\\n\\rEnter 'F' to convert Farenheit to Celius\\n\\rEnter 'K' to convert Celius to Kelvin. \")\n",
        "        if choice == 'C' or 'c':\n",
        "            convert_to_fahrenheit()\n",
        "        elif choice == 'F' or 'f':\n",
        "            convert_to_celius()\n",
        "        elif choice == 'K' or 'k':\n",
        "            celius_to_kelvin()\n",
        "        else:\n",
        "            print(ValueError, 'Incorrect Entry')\n",
        "\n",
        "main()"
      ],
      "metadata": {
        "id": "XH1x4Qn8wHQX"
      },
      "execution_count": null,
      "outputs": []
    },
    {
      "cell_type": "markdown",
      "source": [
        "### File Finder"
      ],
      "metadata": {
        "id": "_grMZZgQvUuR"
      }
    },
    {
      "cell_type": "code",
      "source": [
        "import time\n",
        "def main():\n",
        "    #Get filename\n",
        "    filename = input(\"Enter the name of the file: \")\n",
        "    try:\n",
        "        # Open the file\n",
        "        infile = open(filename, 'r')\n",
        "        print(\"[*] Opening file\",filename)\n",
        "        time.sleep(1)\n",
        "        # Read the file\n",
        "        contents = infile.read()\n",
        "        # Print its contents\n",
        "        print(contents)\n",
        "        # Close it\n",
        "        infile.close()\n",
        "    except IOError:\n",
        "        print(\"An error occured trying to read\")\n",
        "        print(\"the file: \", filename)\n",
        "\n",
        "main()"
      ],
      "metadata": {
        "id": "PiHDTaigvYvd"
      },
      "execution_count": null,
      "outputs": []
    },
    {
      "cell_type": "markdown",
      "source": [
        "#### Connecting to a Host via Telnet\n",
        "\n"
      ],
      "metadata": {
        "id": "iEbeTwS8wrLd"
      }
    },
    {
      "cell_type": "code",
      "source": [
        "from pydoc import cli\n",
        "import socket\n",
        "from urllib import response\n",
        "\n",
        "\n",
        "target_host = str(input(\"[*] Host to Connect to: \"))\n",
        "target_port = 80\n",
        "\n",
        "client = socket.socket(socket.AF_INET, socket.SOCK_STREAM)\n",
        "\n",
        "client.connect((target_host, target_port))\n",
        "\n",
        "client.send(b\"GET / HTTP/1.1\\r\\nHost: telnet\\r\\n\\r\\n\")\n",
        "\n",
        "response = client.recvfrom(4096)\n",
        "client.close()\n",
        "print(response)\n"
      ],
      "metadata": {
        "id": "0g6R_n28wxl4"
      },
      "execution_count": null,
      "outputs": []
    },
    {
      "cell_type": "markdown",
      "source": [
        "Copied from above, I added /robots.txt so it checks for that page.\n",
        "\n",
        "\n",
        "####Burp Request \n",
        "\n",
        "\n",
        "`GET /robots.txt HTTP/1.1\n",
        "Host: www.firenancypelosi.com\n",
        "Cookie: _ga=GA1.2.1304183897.1646153301; _fbp=fb.1.1646153300950.1417308382; _gcl_au=1.1.1447915522.1646425840\n",
        "User-Agent: Mozilla/5.0 (X11; Linux x86_64; rv:91.0) Gecko/20100101 Firefox/91.0\n",
        "Accept: text/html,application/xhtml+xml,application/xml;q=0.9,image/webp,*/*;q=0.8\n",
        "Accept-Language: en-US,en;q=0.5\n",
        "Accept-Encoding: gzip, deflate\n",
        "Upgrade-Insecure-Requests: 1\n",
        "Sec-Fetch-Dest: document\n",
        "Sec-Fetch-Mode: navigate\n",
        "Sec-Fetch-Site: none\n",
        "Sec-Fetch-User: ?1\n",
        "Te: trailers\n",
        "Connection: close`\n"
      ],
      "metadata": {
        "id": "MjH2jml6xB2j"
      }
    },
    {
      "cell_type": "code",
      "source": [
        "from pydoc import cli\n",
        "import socket\n",
        "from urllib import response\n",
        "\n",
        "\n",
        "target_host = str(input(\"[*] Host to Connect to: \"))\n",
        "target_port = int(input(\"[*] Enter the Port: \"))\n",
        "\n",
        "client = socket.socket(socket.AF_INET, socket.SOCK_STREAM)\n",
        "\n",
        "client.connect((target_host, target_port))\n",
        "sname = client.getsockname()\n",
        "client.send(b\"GET /robots.txt HTTP/1.1\\r\\nHost: telnet\\r\\n\\r\\n\")\n",
        "\n",
        "response = client.recv(4096)\n",
        "#client.close()\n",
        "client.detach()\n",
        "print(response.decode('utf-8'))\n"
      ],
      "metadata": {
        "id": "W31mycmzxMWN"
      },
      "execution_count": null,
      "outputs": []
    },
    {
      "cell_type": "markdown",
      "source": [
        "#### A Private chat server, in Python"
      ],
      "metadata": {
        "id": "0hCiJOSJIpxi"
      }
    },
    {
      "cell_type": "markdown",
      "source": [
        "### Text Maniplulation"
      ],
      "metadata": {
        "id": "Sw4oGnvs4zFF"
      }
    },
    {
      "cell_type": "code",
      "source": [
        "import socket\n",
        "import requests\n",
        "\n",
        "url = \"http://www.exploit-db.com/rss.xml\"\n",
        "s1 ,s2 = socket.socketpair()\n",
        "b1 = bytearray(b'--------------')\n",
        "b2 = bytearray(b'0123456789')\n",
        "b3 = bytearray(b'--------------')\n",
        "\n",
        "req = requests.get(url).text\n",
        "send = s1.send(b\"This is a message\")\n",
        "rec = s2.recvmsg_into([b1, b2, b3])\n",
        "print(rec)\n",
        "print(b1,b2,b3)"
      ],
      "metadata": {
        "id": "3087aQ8XIlja"
      },
      "execution_count": null,
      "outputs": []
    },
    {
      "cell_type": "code",
      "source": [
        "import socket\n",
        "\n",
        "socket.timeout(5)\n"
      ],
      "metadata": {
        "id": "jusjH85f-KRr"
      },
      "execution_count": null,
      "outputs": []
    }
  ]
}